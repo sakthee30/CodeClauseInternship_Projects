{
 "cells": [
  {
   "cell_type": "code",
   "execution_count": null,
   "id": "859e6fb1-1b0d-4d6c-ae47-b43dd3a11f0e",
   "metadata": {},
   "outputs": [],
   "source": [
    "CHATBOT CREATION"
   ]
  },
  {
   "cell_type": "code",
   "execution_count": null,
   "id": "dab706c0-98f2-4f61-bdf0-259f4e020139",
   "metadata": {},
   "outputs": [],
   "source": [
    "import nltk\n",
    "import random\n",
    "from sklearn.feature_extraction.text import TfidfVectorizer\n",
    "from sklearn.linear_model import LogisticRegression\n",
    "nltk.download(\"punkt\")"
   ]
  },
  {
   "cell_type": "code",
   "execution_count": null,
   "id": "62baea5d-d595-4258-b95f-733095952c4d",
   "metadata": {},
   "outputs": [],
   "source": [
    "intents = [\n",
    "    {\n",
    "        \"tag\": \"greeting\",\n",
    "        \"patterns\": [\"Hi\", \"Hello\", \"Hey\", \"How are you\", \"What's up\"],\n",
    "        \"responses\": [\"Hi there\", \"Hello\", \"Hey\", \"I'm fine, thank you\", \"Nothing much\"]\n",
    "    },\n",
    "    {\n",
    "        \"tag\": \"goodbye\",\n",
    "        \"patterns\": [\"Bye\", \"See you later\", \"Goodbye\", \"Take care\"],\n",
    "        \"responses\": [\"Goodbye\", \"See you later\", \"Take care\"]\n",
    "    },\n",
    "    {\n",
    "        \"tag\": \"thanks\",\n",
    "        \"patterns\": [\"Thank you\", \"Thanks\", \"Thanks a lot\", \"I appreciate it\"],\n",
    "        \"responses\": [\"You're welcome\", \"No problem\", \"Glad I could help\"]\n",
    "    },\n",
    "    {\n",
    "        \"tag\": \"about\",\n",
    "        \"patterns\": [\"What can you do\", \"Who are you\", \"What are you\", \"What is your purpose\"],\n",
    "        \"responses\": [\"I am a chatbot\", \"My purpose is to assist you\", \"I can answer questions and provide assistance\"]\n",
    "    },\n",
    "    {\n",
    "        \"tag\": \"help\",\n",
    "        \"patterns\": [\"Help\", \"I need help\", \"Can you help me\", \"What should I do\"],\n",
    "        \"responses\": [\"Sure, what do you need help with?\", \"I'm here to help. What's the problem?\", \"How can I assist you?\"]\n",
    "    },\n",
    "    {\n",
    "        \"tag\": \"age\",\n",
    "        \"patterns\": [\"How old are you\", \"What's your age\"],\n",
    "        \"responses\": [\"I don't have an age. I'm a chatbot.\", \"I was just born in the digital world.\", \"Age is just a number for me.\"]\n",
    "    },\n",
    "    {\n",
    "        \"tag\": \"weather\",\n",
    "        \"patterns\": [\"What's the weather like\", \"How's the weather today\"],\n",
    "        \"responses\": [\"I'm sorry, I cannot provide real-time weather information.\", \"You can check the weather on a weather app or website.\"]\n",
    "    },\n",
    "]\n"
   ]
  },
  {
   "cell_type": "code",
   "execution_count": null,
   "id": "321f6a4b-f779-4220-8b50-1bd640159c7b",
   "metadata": {},
   "outputs": [],
   "source": [
    "vectorizer = TfidfVectorizer()\n",
    "classifier = LogisticRegression(random_state=0, max_iter=10000)\n",
    "\n",
    "tags = []\n",
    "patterns = []\n"
   ]
  },
  {
   "cell_type": "code",
   "execution_count": null,
   "id": "4eacf0c2-4fa4-4aec-a432-252da0d8da55",
   "metadata": {},
   "outputs": [],
   "source": [
    "for i in intents:\n",
    "    for pattern in i['patterns']:\n",
    "        tags.append(i[\"tag\"])\n",
    "        patterns.append(pattern)\n",
    "\n",
    "x = vectorizer.fit_transform(patterns)\n",
    "y = tags\n",
    "classifier.fit(x, y)"
   ]
  },
  {
   "cell_type": "code",
   "execution_count": null,
   "id": "e28d93a7-c361-4ddf-a526-2d8dd5e5d834",
   "metadata": {},
   "outputs": [],
   "source": [
    "def bot_response(text):\n",
    "    input_text = vectorizer.transform([text])\n",
    "    tagsdata = classifier.predict(input_text)[0]\n",
    "    for i in intents:\n",
    "        if i[\"tag\"] == tagsdata:\n",
    "            response = random.choice(i['responses'])\n",
    "            return response\n"
   ]
  },
  {
   "cell_type": "code",
   "execution_count": 37,
   "id": "c1b394ec-0c64-4da6-9277-d9165d8c1e95",
   "metadata": {},
   "outputs": [
    {
     "name": "stdin",
     "output_type": "stream",
     "text": [
      "User ->  hi\n"
     ]
    },
    {
     "name": "stdout",
     "output_type": "stream",
     "text": [
      "Chatbot -> Hi there\n"
     ]
    },
    {
     "name": "stdin",
     "output_type": "stream",
     "text": [
      "You:  who are you\n"
     ]
    },
    {
     "name": "stdout",
     "output_type": "stream",
     "text": [
      "Bot: I can answer questions and provide assistance\n"
     ]
    },
    {
     "name": "stdin",
     "output_type": "stream",
     "text": [
      "User ->  what is your purpose\n"
     ]
    },
    {
     "name": "stdout",
     "output_type": "stream",
     "text": [
      "Chatbot -> I am a chatbot\n"
     ]
    },
    {
     "name": "stdin",
     "output_type": "stream",
     "text": [
      "You:  bye\n"
     ]
    },
    {
     "name": "stdout",
     "output_type": "stream",
     "text": [
      "Bot: Take care\n"
     ]
    },
    {
     "name": "stdin",
     "output_type": "stream",
     "text": [
      "User ->  exit\n"
     ]
    },
    {
     "name": "stdout",
     "output_type": "stream",
     "text": [
      "Chatbot -> Hello\n"
     ]
    },
    {
     "name": "stdin",
     "output_type": "stream",
     "text": [
      "You:  quit\n"
     ]
    },
    {
     "name": "stdout",
     "output_type": "stream",
     "text": [
      "Bot: Goodbye, Have a nice day!\n"
     ]
    }
   ],
   "source": [
    "while True:\n",
    "    query = input(\"User -> \")\n",
    "    output = bot_response(query)\n",
    "    print(\"Chatbot -> {}\".format(output))\n",
    "    user_input = input(\"You: \")\n",
    "    if user_input.lower() in [\"exit\", \"quit\"]:\n",
    "        print(\"Bot: Goodbye, Have a nice day!\")\n",
    "        break\n",
    "    response = bot_response(user_input)\n",
    "    print(\"Bot:\", response)\n"
   ]
  },
  {
   "cell_type": "code",
   "execution_count": null,
   "id": "c9a1a0c8-83a4-4294-8e18-8ce794d10f35",
   "metadata": {},
   "outputs": [],
   "source": []
  }
 ],
 "metadata": {
  "kernelspec": {
   "display_name": "Python 3 (ipykernel)",
   "language": "python",
   "name": "python3"
  },
  "language_info": {
   "codemirror_mode": {
    "name": "ipython",
    "version": 3
   },
   "file_extension": ".py",
   "mimetype": "text/x-python",
   "name": "python",
   "nbconvert_exporter": "python",
   "pygments_lexer": "ipython3",
   "version": "3.12.4"
  }
 },
 "nbformat": 4,
 "nbformat_minor": 5
}
